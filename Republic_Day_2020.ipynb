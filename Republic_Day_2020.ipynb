{
  "nbformat": 4,
  "nbformat_minor": 0,
  "metadata": {
    "colab": {
      "name": "Republic_Day_2020.ipynb",
      "provenance": [],
      "collapsed_sections": []
    },
    "kernelspec": {
      "name": "python3",
      "display_name": "Python 3"
    }
  },
  "cells": [
    {
      "cell_type": "markdown",
      "metadata": {
        "id": "PIKQyjbmGy9c",
        "colab_type": "text"
      },
      "source": [
        "## Lets celebrate this Republic Day with some Python !"
      ]
    },
    {
      "cell_type": "markdown",
      "metadata": {
        "id": "TjkJdFurGxoB",
        "colab_type": "text"
      },
      "source": [
        "With 💚 from Smaranjit Ghose to every Indian out there!"
      ]
    },
    {
      "cell_type": "code",
      "metadata": {
        "id": "21qaCDWtGuWu",
        "colab_type": "code",
        "outputId": "4bd4917a-cb94-4eec-8707-760bcac3ee27",
        "colab": {
          "base_uri": "https://localhost:8080/",
          "height": 320
        }
      },
      "source": [
        "#Lets start by importing some lovely modules which we normally use for Data Analysis\n",
        "import numpy as np\n",
        "import matplotlib.pyplot as plt\n",
        "import matplotlib.patches as patch\n",
        "\n",
        "\n",
        "#First lets make the tricolor of Indian National Flag\n",
        "\n",
        "green = patch.Rectangle((0,0), width=10, height=2, facecolor='g')#The green colour depicting the fertility, growth and auspiciousness of the land\n",
        "white = patch.Rectangle((0,2), width=10, height=2, facecolor='white') #The white color depicting peace and truth \n",
        "kesari = patch.Rectangle((0,4), width=10, height=2, facecolor='#FF9933') #The kesari color depicting the strength and courage of the country\n",
        "fig,ax = plt.subplots()\n",
        "ax.add_patch(green)\n",
        "ax.add_patch(white)\n",
        "ax.add_patch(kesari)\n",
        "\n",
        "#Now lets make the Ashok Chakra Chakra depicting that there is life in movement and death in stagnation\n",
        "r=0.8\n",
        "plt.plot(5,3, marker = 'o', markerfacecolor = '#000088ff', markersize = 10)\n",
        "ashoka_chakra = plt.Circle((5, 3), r, color='#000088ff', fill=False, linewidth=7)\n",
        "ax.add_artist(ashoka_chakra)\n",
        "\n",
        "#Continuing with adding small circles inside the edge of Chakra\n",
        "\n",
        "chakra_circles_x = []\n",
        "chakra_circles_y = []\n",
        "\n",
        "\n",
        "for i in range(1,25):\n",
        "    chakra_circles_x.append(5+(r-0.05) * np.cos(np.pi/24 + np.pi*i/12))\n",
        "    chakra_circles_y.append(3+(r-0.05) * np.sin(np.pi/24 + np.pi*i/12))\n",
        "\n",
        "\n",
        "plt.plot(chakra_circles_x, chakra_circles_y, 'o',\n",
        "         markersize=4,\n",
        "         markerfacecolor='#000088ff',\n",
        "         markeredgecolor = '#000088ff')\n",
        "\n",
        "#And finally lets make the 24 spokes within the chakra\n",
        "for i in range(0,24):\n",
        "    x1 =  5 + r/2 * np.cos(np.pi*i/12 + np.pi/48)\n",
        "    x2 =  5 + r/2 * np.cos(np.pi*i/12 - np.pi/48)\n",
        "    y1 =  3 + r/2 * np.sin(np.pi*i/12 + np.pi/48)\n",
        "    y2 =  3 + r/2 * np.sin(np.pi*i/12 - np.pi/48)\n",
        "    x3 =  5 + r * np.cos(np.pi*i/12)\n",
        "    y3 =  3 + r * np.sin(np.pi*i/12)\n",
        "    ax.add_patch(patch.Polygon([[5,3], [x1,y1], [x3,y3],[x2,y2]], fill=True, closed=True, color='#000088ff'))\n",
        "\n",
        "plt.axis('equal')\n",
        "\n",
        "#Kaboom!\n",
        "plt.show()\n",
        "print(\"Vande Mataram\")\n",
        "\n",
        "#And a quote by B. R. Ambedkar that till date resides in my heart \n",
        "print(\"\\nWe are Indians, firstly and lastly.\")"
      ],
      "execution_count": 0,
      "outputs": [
        {
          "output_type": "display_data",
          "data": {
            "image/png": "[encoded data removed]",
            "text/plain": [
              "<Figure size 432x288 with 1 Axes>"
            ]
          },
          "metadata": {
            "tags": []
          }
        },
        {
          "output_type": "stream",
          "text": [
            "Vande Mataram\n",
            "\n",
            "We are Indians, firstly and lastly.\n"
          ],
          "name": "stdout"
        }
      ]
    },
    {
      "cell_type": "code",
      "metadata": {
        "id": "N148JKSRIS4-",
        "colab_type": "code",
        "colab": {}
      },
      "source": [
        ""
      ],
      "execution_count": 0,
      "outputs": []
    }
  ]
}